{
 "cells": [
  {
   "cell_type": "markdown",
   "id": "228ba90f",
   "metadata": {},
   "source": [
    "### 1. What is the relationship between def statements and lambda expressions ?\n",
    "\n"
   ]
  },
  {
   "cell_type": "markdown",
   "id": "637cd269",
   "metadata": {},
   "source": [
    "\n",
    "def defined functions are commonly used because of their simplicity. The def defined functions do not return \n",
    "anything if not explicitly returned whereas the lambda function does return an object. The def functions must be declared \n",
    "in the namespace. The def functions can perform any python task including multiple conditions, nested conditions or loops \n",
    "of any level, printing, importing libraries, raising Exceptions, etc. \n",
    "\n",
    "The lambda functions can be used without any declaration in the namespace. The lambda functions defined above are like \n",
    "single-line functions. These functions do not have parenthesis like the def defined functions but instead, take parameters \n",
    "after the lambda keyword as shown above. There is no return keyword defined explicitly because the lambda function does \n",
    "return an object by default."
   ]
  },
  {
   "cell_type": "markdown",
   "id": "d133160b",
   "metadata": {},
   "source": [
    "### 2. What is the benefit of lambda?\n"
   ]
  },
  {
   "cell_type": "markdown",
   "id": "4bc10d03",
   "metadata": {},
   "source": [
    "### Following are the Benefits of Lambda Function\n",
    "1. Single line function\n",
    "2. We can use Lambda functions with out any declaration in the namespace\n",
    "3. Lambda functions are faster than def functions\n",
    "4. no need to mention return statement as it does return an object by default\n"
   ]
  },
  {
   "cell_type": "markdown",
   "id": "224710fb",
   "metadata": {},
   "source": [
    "### 3. Compare and contrast map, filter, and reduce.\n"
   ]
  },
  {
   "cell_type": "markdown",
   "id": "bd7e956e",
   "metadata": {},
   "source": [
    "\n",
    "map applies as a transformation to an element.\n",
    "The map() function iterates through all items in the given iterable and executes the function we \n",
    "passed as an argument on each of them.\n",
    "Syntax : map(function, iterable(s))\n",
    "\n",
    "\n",
    "filter accumulates only elements matching a condition.\n",
    "filter() forms a new list that contains only elements that satisfy a certain condition, i.e. the function we \n",
    "passed returns True\n",
    "Syntax : filter(function, iterable(s))\n",
    "\n",
    "\n",
    "reduce accumulates all elements to a single value, by using immutable values\n",
    "reduce() works by calling the function we passed for the first two items in the sequence. The result returned by \n",
    "the function is used in another call to function alongside with the next (third in this case), element\n",
    "Syntax : reduce(function, sequence[, initial])\n"
   ]
  },
  {
   "cell_type": "markdown",
   "id": "40f0672f",
   "metadata": {},
   "source": [
    "### 4. What are function annotations, and how are they used?\n"
   ]
  },
  {
   "cell_type": "markdown",
   "id": "5cff827a",
   "metadata": {},
   "source": [
    "\n",
    "Function annotation is the standard way to access the metadata with the arguments and the return value of the function.\n",
    "These are nothing but some random and optional Python expressions that get allied to different parts of the function.\n",
    "They get evaluated only during the compile-time and have no significance during the run-time of the code.\n",
    "They do not have any significance or meaning associated with them until accessed by some third-party libraries.\n",
    "They are used to type check the functions by declaring the type of the parameters and the return value for the functions.\n",
    "The string-based annotations help us to improve the help messages.\n",
    "\n",
    "Syntax :\n",
    "    def func(a: 'int') -> 'int':\n",
    "        pass\n",
    "\n",
    "Annotations for simple parameters:\n",
    "    def func(x: 'float'=10.8, y: 'argument2'):\n",
    "        In the above code the argument, ‘x’ of the function func, \n",
    "        has been annotated to float data type and the argument ‘y’ \n",
    "        has a string-based annotation. The argument can also be \n",
    "        assigned to a default value using a ‘=’ symbol followed \n",
    "        by the default value. These default values are optional to the code.\n",
    "\n",
    "Annotations for return values:\n",
    "    def func(a: expression) -> 'int':\n",
    "        The annotations for the return value is written after the ‘->’ symbol.\n"
   ]
  },
  {
   "cell_type": "markdown",
   "id": "a7869fb6",
   "metadata": {},
   "source": [
    "### 5. What are recursive functions, and how are they used?\n"
   ]
  },
  {
   "cell_type": "code",
   "execution_count": 4,
   "id": "407fdbaf",
   "metadata": {},
   "outputs": [
    {
     "name": "stdout",
     "output_type": "stream",
     "text": [
      "\n",
      "A recursive function is a function that calls itself during its execution. \n",
      "This means that the function will continue to call itself and repeat its behavior until some condition is met to return a result\n",
      "\n",
      "# example\n",
      "def fact(x):\n",
      "    if x == 1 :\n",
      "        return 1\n",
      "    else :\n",
      "        return x * fact(x-1) # recurtion\n",
      "    \n",
      "fact(3)\n",
      "\n"
     ]
    }
   ],
   "source": [
    "print('''\n",
    "A recursive function is a function that calls itself during its execution. \n",
    "This means that the function will continue to call itself and repeat its behavior until some condition is met to return a result\n",
    "\n",
    "''')"
   ]
  },
  {
   "cell_type": "code",
   "execution_count": 5,
   "id": "8c8ff0be",
   "metadata": {},
   "outputs": [
    {
     "data": {
      "text/plain": [
       "6"
      ]
     },
     "execution_count": 5,
     "metadata": {},
     "output_type": "execute_result"
    }
   ],
   "source": [
    "# example\n",
    "def fact(x):\n",
    "    if x == 1 :\n",
    "        return 1\n",
    "    else :\n",
    "        return x * fact(x-1) # recurtion\n",
    "    \n",
    "fact(3)"
   ]
  },
  {
   "cell_type": "markdown",
   "id": "80d5bacf",
   "metadata": {},
   "source": [
    "### 6. What are some general design guidelines for coding functions?\n"
   ]
  },
  {
   "cell_type": "code",
   "execution_count": 6,
   "id": "6cabf17f",
   "metadata": {},
   "outputs": [
    {
     "name": "stdout",
     "output_type": "stream",
     "text": [
      "\n",
      "1. Use 4-space indentation and no tabs.\n",
      "2. Use docstrings\n",
      "3. Wrap linethat they don’t exceed 79 characters\n",
      "4. Use of regular and updated comments are valuable to both the coders and users\n",
      "5. Use of trailing commas : in case of tuple -> ('good',)\n",
      "6. Use Python’s default UTF-8 or ASCII encodings and not any fancy encodings\n",
      "7. Naming Conventions\n",
      "8.Characters that should not be used for identifiers :\n",
      "    ‘l’ (lowercase letter el), \n",
      "    ‘O’ (uppercase letter oh), \n",
      "    ‘I’ (uppercase letter eye) as single character variable names as these are similar to the numerals one and zero.\n",
      "9. Don’t use non-ASCII characters in identifiers\n",
      "10. Name your classes and functions consistently\n",
      "11. While naming of function of methods always use self for the first argument\n",
      "\n",
      "\n"
     ]
    }
   ],
   "source": [
    "print('''\n",
    "1. Use 4-space indentation and no tabs.\n",
    "2. Use docstrings\n",
    "3. Wrap linethat they don’t exceed 79 characters\n",
    "4. Use of regular and updated comments are valuable to both the coders and users\n",
    "5. Use of trailing commas : in case of tuple -> ('good',)\n",
    "6. Use Python’s default UTF-8 or ASCII encodings and not any fancy encodings\n",
    "7. Naming Conventions\n",
    "8.Characters that should not be used for identifiers :\n",
    "    ‘l’ (lowercase letter el), \n",
    "    ‘O’ (uppercase letter oh), \n",
    "    ‘I’ (uppercase letter eye) as single character variable names as these are similar to the numerals one and zero.\n",
    "9. Don’t use non-ASCII characters in identifiers\n",
    "10. Name your classes and functions consistently\n",
    "11. While naming of function of methods always use self for the first argument\n",
    "\n",
    "''')"
   ]
  },
  {
   "cell_type": "markdown",
   "id": "05359ed2",
   "metadata": {},
   "source": [
    "### 7. Name three or more ways that functions can communicate results to a caller."
   ]
  },
  {
   "cell_type": "code",
   "execution_count": 7,
   "id": "7bd82f27",
   "metadata": {},
   "outputs": [
    {
     "name": "stdout",
     "output_type": "stream",
     "text": [
      "\n",
      "1. Function can return single value\n",
      "2. Can return multiple values, tuple\n",
      "3. can return list,dictionary\n",
      "4. can return function object\n",
      "5. can return class object\n",
      "\n"
     ]
    }
   ],
   "source": [
    "print('''\n",
    "1. Function can return single value\n",
    "2. Can return multiple values, tuple\n",
    "3. can return list,dictionary\n",
    "4. can return function object\n",
    "5. can return class object\n",
    "''')"
   ]
  },
  {
   "cell_type": "code",
   "execution_count": null,
   "id": "d385391f",
   "metadata": {},
   "outputs": [],
   "source": []
  }
 ],
 "metadata": {
  "kernelspec": {
   "display_name": "Python 3 (ipykernel)",
   "language": "python",
   "name": "python3"
  },
  "language_info": {
   "codemirror_mode": {
    "name": "ipython",
    "version": 3
   },
   "file_extension": ".py",
   "mimetype": "text/x-python",
   "name": "python",
   "nbconvert_exporter": "python",
   "pygments_lexer": "ipython3",
   "version": "3.9.12"
  }
 },
 "nbformat": 4,
 "nbformat_minor": 5
}
