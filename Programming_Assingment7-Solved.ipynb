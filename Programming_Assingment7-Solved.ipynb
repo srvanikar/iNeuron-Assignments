{
 "cells": [
  {
   "cell_type": "markdown",
   "id": "d3d0b8fb",
   "metadata": {},
   "source": [
    "# 1.\tWrite a Python Program to find sum of array?\n",
    "\n",
    "\n",
    "\n",
    "\n"
   ]
  },
  {
   "cell_type": "code",
   "execution_count": 1,
   "id": "4feff96b",
   "metadata": {},
   "outputs": [
    {
     "name": "stdout",
     "output_type": "stream",
     "text": [
      "165\n"
     ]
    }
   ],
   "source": [
    "import numpy\n",
    "my_array = numpy.array([11, 22, 33, 44, 55])\n",
    "\n",
    "sum = 0\n",
    "\n",
    "for i in my_array:\n",
    "    sum+=i\n",
    "    \n",
    "print(sum)"
   ]
  },
  {
   "cell_type": "markdown",
   "id": "8b9d4bec",
   "metadata": {},
   "source": [
    "# 2.\tWrite a Python Program to find largest element in an array?"
   ]
  },
  {
   "cell_type": "code",
   "execution_count": 2,
   "id": "c9a9116d",
   "metadata": {},
   "outputs": [
    {
     "name": "stdout",
     "output_type": "stream",
     "text": [
      "55877425\n"
     ]
    }
   ],
   "source": [
    "import numpy\n",
    "my_array = numpy.array([9874, 6548, 99999, 32654, 55877425])\n",
    "\n",
    "largest = my_array[0]\n",
    "\n",
    "for i in my_array:\n",
    "    if i>= largest:\n",
    "        largest = i\n",
    "    else:\n",
    "        continue\n",
    "print(largest)"
   ]
  },
  {
   "cell_type": "markdown",
   "id": "187b5c20",
   "metadata": {},
   "source": [
    "# 3.\tWrite a Python Program for array rotation?"
   ]
  },
  {
   "cell_type": "code",
   "execution_count": 3,
   "id": "e86944a5",
   "metadata": {},
   "outputs": [
    {
     "name": "stdout",
     "output_type": "stream",
     "text": [
      "enter the number of digits to rotate: 2\n"
     ]
    },
    {
     "data": {
      "text/plain": [
       "array([ 3,  4,  5,  6,  7,  8,  9, 10,  1,  2])"
      ]
     },
     "execution_count": 3,
     "metadata": {},
     "output_type": "execute_result"
    }
   ],
   "source": [
    "import numpy\n",
    "arr1 = numpy.array([1, 2, 3, 4, 5, 6, 7, 8, 9, 10])\n",
    "\n",
    "n = int(input(\"enter the number of digits to rotate: \"))\n",
    "\n",
    "temp = list(arr1[0:n])\n",
    "\n",
    "remaining = list(arr1[n:] )\n",
    "\n",
    "rotated = remaining +  temp\n",
    "\n",
    "numpy.array(rotated)"
   ]
  },
  {
   "cell_type": "markdown",
   "id": "cb36b9e9",
   "metadata": {},
   "source": [
    "# 4.\tWrite a Python Program to Split the array and add the first part to the end?"
   ]
  },
  {
   "cell_type": "code",
   "execution_count": 6,
   "id": "c15c714f",
   "metadata": {},
   "outputs": [
    {
     "name": "stdout",
     "output_type": "stream",
     "text": [
      "enter the number of digits to rotate: 2\n"
     ]
    },
    {
     "data": {
      "text/plain": [
       "array([ 3,  4,  5,  6,  7,  8,  9, 10,  1,  2])"
      ]
     },
     "execution_count": 6,
     "metadata": {},
     "output_type": "execute_result"
    }
   ],
   "source": [
    "import numpy\n",
    "arr1 = numpy.array([1, 2, 3, 4, 5, 6, 7, 8, 9, 10])\n",
    "\n",
    "n = int(input(\"enter the number of digits to rotate: \"))\n",
    "\n",
    "temp = list(arr1[0:n])\n",
    "\n",
    "remaining = list(arr1[n:] )\n",
    "\n",
    "rotated = remaining +  temp\n",
    "\n",
    "numpy.array(rotated)"
   ]
  },
  {
   "cell_type": "markdown",
   "id": "c0efcf95",
   "metadata": {},
   "source": [
    "# 5.\tWrite a Python Program to check if given array is Monotonic?"
   ]
  },
  {
   "cell_type": "code",
   "execution_count": 5,
   "id": "f971d437",
   "metadata": {},
   "outputs": [
    {
     "name": "stdout",
     "output_type": "stream",
     "text": [
      "True\n"
     ]
    }
   ],
   "source": [
    "def monotonic_num(num):\n",
    "    x, y = [], []\n",
    "    x.extend(num)\n",
    "    y.extend(num)\n",
    "    x.sort()\n",
    "    y.sort(reverse=True)\n",
    "    if (x == num or y == num):\n",
    "        return True\n",
    "    return False\n",
    "\n",
    "num = [2,3,4,5,7]\n",
    "\n",
    "print(monotonic_num(num))"
   ]
  },
  {
   "cell_type": "code",
   "execution_count": null,
   "id": "a425e9f0",
   "metadata": {},
   "outputs": [],
   "source": []
  }
 ],
 "metadata": {
  "kernelspec": {
   "display_name": "Python 3 (ipykernel)",
   "language": "python",
   "name": "python3"
  },
  "language_info": {
   "codemirror_mode": {
    "name": "ipython",
    "version": 3
   },
   "file_extension": ".py",
   "mimetype": "text/x-python",
   "name": "python",
   "nbconvert_exporter": "python",
   "pygments_lexer": "ipython3",
   "version": "3.9.12"
  }
 },
 "nbformat": 4,
 "nbformat_minor": 5
}
