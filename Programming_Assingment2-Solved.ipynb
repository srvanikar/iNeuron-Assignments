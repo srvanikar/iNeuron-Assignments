{
 "cells": [
  {
   "cell_type": "markdown",
   "id": "72be255c",
   "metadata": {},
   "source": [
    "# 1.\tWrite a Python program to convert kilometers to miles?"
   ]
  },
  {
   "cell_type": "code",
   "execution_count": 1,
   "id": "644c2dab",
   "metadata": {},
   "outputs": [
    {
     "name": "stdout",
     "output_type": "stream",
     "text": [
      "Enter the desired number to convert into miles: 10\n",
      "10 kms converted into miles will be 6.215040397762586\n"
     ]
    }
   ],
   "source": [
    "km = (int(input('Enter the desired number to convert into miles: ')))\n",
    "miles = km / 1.609\n",
    "print(f'{km} kms converted into miles will be {miles}')\n"
   ]
  },
  {
   "cell_type": "markdown",
   "id": "228686a1",
   "metadata": {},
   "source": [
    "# 2.\tWrite a Python program to convert Celsius to Fahrenheit?"
   ]
  },
  {
   "cell_type": "code",
   "execution_count": 2,
   "id": "2fdda549",
   "metadata": {},
   "outputs": [
    {
     "name": "stdout",
     "output_type": "stream",
     "text": [
      "Enter the desired number to convert into Fahrenheit: 5\n",
      "5 degrees converted into Fahrenheit will be 41.0\n"
     ]
    }
   ],
   "source": [
    "celcius = (int(input('Enter the desired number to convert into Fahrenheit: ')))\n",
    "Fahrenheit = (celcius * (9/5)) + 32\n",
    "print(f'{celcius} degrees converted into Fahrenheit will be {Fahrenheit}')\n"
   ]
  },
  {
   "cell_type": "markdown",
   "id": "12cd99b9",
   "metadata": {},
   "source": [
    "# 3.\tWrite a Python program to display calendar?"
   ]
  },
  {
   "cell_type": "code",
   "execution_count": 4,
   "id": "cbb3ff77",
   "metadata": {},
   "outputs": [
    {
     "name": "stdout",
     "output_type": "stream",
     "text": [
      "Enter the desired year: 1985\n",
      "Enter the desired month: 1\n",
      "    January 1985\n",
      "Mo Tu We Th Fr Sa Su\n",
      "    1  2  3  4  5  6\n",
      " 7  8  9 10 11 12 13\n",
      "14 15 16 17 18 19 20\n",
      "21 22 23 24 25 26 27\n",
      "28 29 30 31\n",
      "\n"
     ]
    }
   ],
   "source": [
    "import calendar\n",
    "\n",
    "yy = (int(input('Enter the desired year: ')))\n",
    "mm = (int(input('Enter the desired month: ')))\n",
    "\n",
    "print(calendar.month(yy,mm))\n",
    "\n"
   ]
  },
  {
   "cell_type": "markdown",
   "id": "faacf14b",
   "metadata": {},
   "source": [
    "# 4.\tWrite a Python program to solve quadratic equation?"
   ]
  },
  {
   "cell_type": "code",
   "execution_count": null,
   "id": "0bccb56c",
   "metadata": {},
   "outputs": [],
   "source": [
    "import cmath\n",
    "\n",
    "a = (int(input()))\n",
    "b = (int(input()))\n",
    "c = (int(input()))\n",
    "\n",
    "# Calculating discriminant\n",
    "dis = (b**2) - (4 * a*c)\n",
    "\n",
    "# Finding the roots\n",
    "root1 = (-b - cmath.sqrt(dis))/(2 * a)\n",
    "root2 = (-b + cmath.sqrt(dis))/(2 * a)\n",
    "print(f'The roots are {root1} and {root2}')\n",
    "\n"
   ]
  },
  {
   "cell_type": "markdown",
   "id": "fe177351",
   "metadata": {},
   "source": [
    "# 5.\tWrite a Python program to swap two variables without temp variable?"
   ]
  },
  {
   "cell_type": "code",
   "execution_count": 5,
   "id": "e4c5b8bc",
   "metadata": {},
   "outputs": [
    {
     "name": "stdout",
     "output_type": "stream",
     "text": [
      "a =  30\n",
      "b =  20\n"
     ]
    }
   ],
   "source": [
    "a = 20\n",
    "b = 30\n",
    "\n",
    "a,b = b,a\n",
    "\n",
    "print('a = ',a)\n",
    "print('b = ',b)\n"
   ]
  },
  {
   "cell_type": "code",
   "execution_count": null,
   "id": "632aeef3",
   "metadata": {},
   "outputs": [],
   "source": []
  },
  {
   "cell_type": "code",
   "execution_count": null,
   "id": "7142b0d4",
   "metadata": {},
   "outputs": [],
   "source": []
  },
  {
   "cell_type": "code",
   "execution_count": null,
   "id": "4dc49547",
   "metadata": {},
   "outputs": [],
   "source": []
  },
  {
   "cell_type": "code",
   "execution_count": null,
   "id": "dc7f4d14",
   "metadata": {},
   "outputs": [],
   "source": []
  },
  {
   "cell_type": "code",
   "execution_count": null,
   "id": "41b0bef0",
   "metadata": {},
   "outputs": [],
   "source": []
  },
  {
   "cell_type": "code",
   "execution_count": null,
   "id": "f83be44f",
   "metadata": {},
   "outputs": [],
   "source": []
  },
  {
   "cell_type": "code",
   "execution_count": null,
   "id": "bbfb4b2b",
   "metadata": {},
   "outputs": [],
   "source": []
  },
  {
   "cell_type": "code",
   "execution_count": null,
   "id": "c2d24e4f",
   "metadata": {},
   "outputs": [],
   "source": []
  },
  {
   "cell_type": "code",
   "execution_count": null,
   "id": "9a5f94c8",
   "metadata": {},
   "outputs": [],
   "source": []
  },
  {
   "cell_type": "code",
   "execution_count": null,
   "id": "014408d9",
   "metadata": {},
   "outputs": [],
   "source": []
  }
 ],
 "metadata": {
  "kernelspec": {
   "display_name": "Python 3 (ipykernel)",
   "language": "python",
   "name": "python3"
  },
  "language_info": {
   "codemirror_mode": {
    "name": "ipython",
    "version": 3
   },
   "file_extension": ".py",
   "mimetype": "text/x-python",
   "name": "python",
   "nbconvert_exporter": "python",
   "pygments_lexer": "ipython3",
   "version": "3.9.12"
  }
 },
 "nbformat": 4,
 "nbformat_minor": 5
}
