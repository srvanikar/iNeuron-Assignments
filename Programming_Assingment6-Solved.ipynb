{
 "cells": [
  {
   "cell_type": "markdown",
   "id": "c99e304f",
   "metadata": {},
   "source": [
    "# 1.\tWrite a Python Program to Display Fibonacci Sequence Using Recursion?\n",
    "\n",
    "\n",
    "\n",
    "\n"
   ]
  },
  {
   "cell_type": "code",
   "execution_count": 1,
   "id": "bcc4cba3",
   "metadata": {},
   "outputs": [
    {
     "name": "stdout",
     "output_type": "stream",
     "text": [
      "enter desired number: 6\n"
     ]
    },
    {
     "data": {
      "text/plain": [
       "8"
      ]
     },
     "execution_count": 1,
     "metadata": {},
     "output_type": "execute_result"
    }
   ],
   "source": [
    "def fibonacci_seq(num):\n",
    "    if num ==0:\n",
    "        return 0\n",
    "    elif num == 1 or num == 2:\n",
    "        return 1\n",
    "    else:\n",
    "        return fibonacci_seq(num-1) + fibonacci_seq(num-2)\n",
    "\n",
    "num = int(input('enter desired number: '))\n",
    "\n",
    "fibonacci_seq(num)"
   ]
  },
  {
   "cell_type": "markdown",
   "id": "be2e2891",
   "metadata": {},
   "source": [
    "# 2.\tWrite a Python Program to Find Factorial of Number Using Recursion?"
   ]
  },
  {
   "cell_type": "code",
   "execution_count": null,
   "id": "649fb750",
   "metadata": {},
   "outputs": [],
   "source": [
    "def factorial(x):\n",
    "    if x == 1:\n",
    "        return 1\n",
    "    else:\n",
    "        return (x*factorial(x-1))\n",
    "        \n",
    "x= int(input('Enter Desired Number: '))\n",
    "        \n",
    "factorial (x)"
   ]
  },
  {
   "cell_type": "markdown",
   "id": "247890be",
   "metadata": {},
   "source": [
    "# 3.\tWrite a Python Program to calculate your Body Mass Index?"
   ]
  },
  {
   "cell_type": "code",
   "execution_count": 2,
   "id": "b740dc9f",
   "metadata": {},
   "outputs": [
    {
     "name": "stdout",
     "output_type": "stream",
     "text": [
      "Enter the height in m: 1.6\n",
      "Enter the weight in kg: 61\n",
      "Your BMI is 23.828124999999996\n"
     ]
    }
   ],
   "source": [
    "height = float(input(\"Enter the height in m: \"))  \n",
    "weight = float(input(\"Enter the weight in kg: \"))  \n",
    "\n",
    "BMI = weight / (height**2)\n",
    "\n",
    "print(f'Your BMI is {BMI}')"
   ]
  },
  {
   "cell_type": "markdown",
   "id": "1e007781",
   "metadata": {},
   "source": [
    "# 4.\tWrite a Python Program to calculate the natural logarithm of any number?"
   ]
  },
  {
   "cell_type": "code",
   "execution_count": 6,
   "id": "9a5f9f49",
   "metadata": {},
   "outputs": [
    {
     "name": "stdout",
     "output_type": "stream",
     "text": [
      "Enter the desired number to get the natural logarithm of that number: 10\n",
      "The Natural Logarithm of number 10 is 2.302585092994046\n"
     ]
    }
   ],
   "source": [
    "import math \n",
    "num = int(input(\"Enter the desired number to get the natural logarithm of that number: \"))\n",
    "\n",
    "print(f'The Natural Logarithm of number {num} is',math.log(num))"
   ]
  },
  {
   "cell_type": "markdown",
   "id": "cd2bdfed",
   "metadata": {},
   "source": [
    "# 5.\tWrite a Python Program for cube sum of first n natural numbers?"
   ]
  },
  {
   "cell_type": "code",
   "execution_count": 12,
   "id": "ad0901c3",
   "metadata": {},
   "outputs": [
    {
     "name": "stdout",
     "output_type": "stream",
     "text": [
      "enter the nth natural number: 10\n",
      "3025\n"
     ]
    }
   ],
   "source": [
    "import math\n",
    "n = int(input(\"enter the nth natural number: \"))\n",
    "\n",
    "cube_sum=0\n",
    "\n",
    "for i in range (1,n+1):\n",
    "    cube_sum += (i**3)\n",
    "    \n",
    "    \n",
    "print(cube_sum)\n",
    "    \n",
    "    "
   ]
  },
  {
   "cell_type": "code",
   "execution_count": null,
   "id": "ab7de150",
   "metadata": {},
   "outputs": [],
   "source": []
  }
 ],
 "metadata": {
  "kernelspec": {
   "display_name": "Python 3 (ipykernel)",
   "language": "python",
   "name": "python3"
  },
  "language_info": {
   "codemirror_mode": {
    "name": "ipython",
    "version": 3
   },
   "file_extension": ".py",
   "mimetype": "text/x-python",
   "name": "python",
   "nbconvert_exporter": "python",
   "pygments_lexer": "ipython3",
   "version": "3.9.12"
  }
 },
 "nbformat": 4,
 "nbformat_minor": 5
}
