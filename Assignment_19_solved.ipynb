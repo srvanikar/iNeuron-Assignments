{
 "cells": [
  {
   "cell_type": "markdown",
   "id": "898db558",
   "metadata": {},
   "source": [
    "### 1. Make a class called Thing with no contents and print it. Then, create an object called example from this class and also print it. Are the printed values the same or different?\n",
    "\n"
   ]
  },
  {
   "cell_type": "code",
   "execution_count": 1,
   "id": "dec4d99d",
   "metadata": {},
   "outputs": [
    {
     "name": "stdout",
     "output_type": "stream",
     "text": [
      "<class '__main__.Things'>\n",
      "<__main__.Things object at 0x000001BD61AF4490>\n",
      "Yes we can see the difference in the printed values\n"
     ]
    }
   ],
   "source": [
    "class Things:\n",
    "    pass\n",
    "\n",
    "print(Things)\n",
    "\n",
    "example = Things()\n",
    "\n",
    "print(example)\n",
    "\n",
    "print(\"Yes we can see the difference in the printed values\")"
   ]
  },
  {
   "cell_type": "markdown",
   "id": "651a4d84",
   "metadata": {},
   "source": [
    "### 2. Create a new class called Thing2 and add the value 'abc' to the letters class attribute. Letters should be printed.\n"
   ]
  },
  {
   "cell_type": "code",
   "execution_count": 2,
   "id": "e523922d",
   "metadata": {},
   "outputs": [
    {
     "name": "stdout",
     "output_type": "stream",
     "text": [
      "abc\n"
     ]
    }
   ],
   "source": [
    "class Things2:\n",
    "    letters = 'abc'\n",
    "    \n",
    "print(Things2.letters)\n",
    "    "
   ]
  },
  {
   "cell_type": "markdown",
   "id": "c5d696db",
   "metadata": {},
   "source": [
    "### 3. Make yet another class called, of course, Thing3. This time, assign the value 'xyz' to an instance (object) attribute called letters. Print letters. Do you need to make an object from the class to do this?\n"
   ]
  },
  {
   "cell_type": "code",
   "execution_count": 3,
   "id": "33402460",
   "metadata": {},
   "outputs": [
    {
     "ename": "AttributeError",
     "evalue": "type object 'Thing3' has no attribute 'letters'",
     "output_type": "error",
     "traceback": [
      "\u001b[1;31m---------------------------------------------------------------------------\u001b[0m",
      "\u001b[1;31mAttributeError\u001b[0m                            Traceback (most recent call last)",
      "Input \u001b[1;32mIn [3]\u001b[0m, in \u001b[0;36m<cell line: 5>\u001b[1;34m()\u001b[0m\n\u001b[0;32m      2\u001b[0m     \u001b[38;5;28;01mdef\u001b[39;00m \u001b[38;5;21m__init__\u001b[39m(\u001b[38;5;28mself\u001b[39m):\n\u001b[0;32m      3\u001b[0m         \u001b[38;5;28mself\u001b[39m\u001b[38;5;241m.\u001b[39mletters \u001b[38;5;241m=\u001b[39m \u001b[38;5;124m'\u001b[39m\u001b[38;5;124mxyz\u001b[39m\u001b[38;5;124m'\u001b[39m\n\u001b[1;32m----> 5\u001b[0m \u001b[38;5;28mprint\u001b[39m(\u001b[43mThing3\u001b[49m\u001b[38;5;241;43m.\u001b[39;49m\u001b[43mletters\u001b[49m)\n",
      "\u001b[1;31mAttributeError\u001b[0m: type object 'Thing3' has no attribute 'letters'"
     ]
    }
   ],
   "source": [
    "class Thing3:\n",
    "    def __init__(self):\n",
    "        self.letters = 'xyz'\n",
    "\n",
    "print(Thing3.letters)"
   ]
  },
  {
   "cell_type": "code",
   "execution_count": 4,
   "id": "f4004597",
   "metadata": {},
   "outputs": [
    {
     "name": "stdout",
     "output_type": "stream",
     "text": [
      "xyz\n"
     ]
    }
   ],
   "source": [
    "class Thing3:\n",
    "    def __init__(self):\n",
    "        self.letters = 'xyz'\n",
    "\n",
    "ob = Thing3()  \n",
    "\n",
    "print(ob.letters)"
   ]
  },
  {
   "cell_type": "markdown",
   "id": "752e5e69",
   "metadata": {},
   "source": [
    "### 4. Create an Element class with the instance attributes name, symbol, and number. Create a class object with the values 'Hydrogen,' 'H,' and 1.\n"
   ]
  },
  {
   "cell_type": "code",
   "execution_count": 5,
   "id": "2fb743fd",
   "metadata": {},
   "outputs": [],
   "source": [
    "class Element:\n",
    "    def __init__(self,name, symbol, number):\n",
    "        self.name = name\n",
    "        self.symbol = symbol\n",
    "        self.number = number\n",
    "        "
   ]
  },
  {
   "cell_type": "code",
   "execution_count": 6,
   "id": "9be4c02f",
   "metadata": {},
   "outputs": [],
   "source": [
    "el = Element('Hydrogen', 'H', 1)"
   ]
  },
  {
   "cell_type": "markdown",
   "id": "82c998d4",
   "metadata": {},
   "source": [
    "### 5. Make a dictionary with these keys and values: 'name': 'Hydrogen', 'symbol': 'H', 'number': 1. Then, create an object called hydrogen from class Element using this dictionary.\n"
   ]
  },
  {
   "cell_type": "code",
   "execution_count": 7,
   "id": "91f345e5",
   "metadata": {},
   "outputs": [],
   "source": [
    "class Element:\n",
    "    def __init__(self,name, symbol, number):\n",
    "        self.name = name\n",
    "        self.symbol = symbol\n",
    "        self.number = number"
   ]
  },
  {
   "cell_type": "code",
   "execution_count": 8,
   "id": "e755d256",
   "metadata": {},
   "outputs": [],
   "source": [
    "dict = {'name': 'Hydrogen', 'symbol': 'H', 'number': 1}\n",
    "\n",
    "hydrogen = Element(dict['name'], dict['symbol'], dict['number'])"
   ]
  },
  {
   "cell_type": "code",
   "execution_count": 9,
   "id": "84022457",
   "metadata": {},
   "outputs": [
    {
     "name": "stdout",
     "output_type": "stream",
     "text": [
      "H\n"
     ]
    }
   ],
   "source": [
    "print(hydrogen.symbol)"
   ]
  },
  {
   "cell_type": "markdown",
   "id": "fdd39129",
   "metadata": {},
   "source": [
    "### 6. For the Element class, define a method called dump() that prints the values of the object’s attributes (name, symbol, and number). Create the hydrogen object from this new definition and use dump() to print its attributes.\n"
   ]
  },
  {
   "cell_type": "code",
   "execution_count": 10,
   "id": "2be68e88",
   "metadata": {},
   "outputs": [],
   "source": [
    "class Element:\n",
    "    def __init__(self,name, symbol, number):\n",
    "        self.name = name\n",
    "        self.symbol = symbol\n",
    "        self.number = number\n",
    "        \n",
    "    def dump(self):\n",
    "        print(f'name = {self.name}, symbol = {self.symbol}, number = {self.number}')"
   ]
  },
  {
   "cell_type": "code",
   "execution_count": 11,
   "id": "e4867f65",
   "metadata": {},
   "outputs": [
    {
     "name": "stdout",
     "output_type": "stream",
     "text": [
      "name = Hydrogen, symbol = H, number = 1\n"
     ]
    }
   ],
   "source": [
    "dict = {'name': 'Hydrogen', 'symbol': 'H', 'number': 1}\n",
    "\n",
    "hydrogen = Element(dict['name'], dict['symbol'], dict['number'])\n",
    "\n",
    "hydrogen.dump()"
   ]
  },
  {
   "cell_type": "markdown",
   "id": "f7f69fd3",
   "metadata": {},
   "source": [
    "### 7. Call print(hydrogen). In the definition of Element, change the name of method dump to __str__, create a new hydrogen object, and call print(hydrogen) again.\n"
   ]
  },
  {
   "cell_type": "code",
   "execution_count": 12,
   "id": "342fd667",
   "metadata": {},
   "outputs": [
    {
     "name": "stdout",
     "output_type": "stream",
     "text": [
      "<__main__.Element object at 0x000001BD62D7E2B0>\n"
     ]
    }
   ],
   "source": [
    "print(hydrogen)"
   ]
  },
  {
   "cell_type": "code",
   "execution_count": 13,
   "id": "581baed7",
   "metadata": {},
   "outputs": [],
   "source": [
    "class Element:\n",
    "    def __init__(self,name, symbol, number):\n",
    "        self.name = name\n",
    "        self.symbol = symbol\n",
    "        self.number = number\n",
    "        \n",
    "    def __str__(self):\n",
    "        return (f'name = {self.name}, symbol = {self.symbol}, number = {self.number}')"
   ]
  },
  {
   "cell_type": "code",
   "execution_count": 14,
   "id": "36c2e5d2",
   "metadata": {},
   "outputs": [],
   "source": [
    "dict = {'name': 'Hydrogen', 'symbol': 'H', 'number': 1}\n",
    "hydrogen = Element(**dict)"
   ]
  },
  {
   "cell_type": "code",
   "execution_count": 15,
   "id": "53308374",
   "metadata": {},
   "outputs": [
    {
     "name": "stdout",
     "output_type": "stream",
     "text": [
      "name = Hydrogen, symbol = H, number = 1\n"
     ]
    }
   ],
   "source": [
    "print(hydrogen)"
   ]
  },
  {
   "cell_type": "markdown",
   "id": "5dcdd8c9",
   "metadata": {},
   "source": [
    "### 8. Modify Element to make the attributes name, symbol, and number private. Define a getter property for each to return its value.\n"
   ]
  },
  {
   "cell_type": "code",
   "execution_count": 16,
   "id": "7fcdc7d2",
   "metadata": {},
   "outputs": [],
   "source": [
    "class Element:\n",
    "    def __init__(self,name, symbol, number):\n",
    "        self.name = name\n",
    "        self.symbol = symbol\n",
    "        self.number = number\n",
    "        \n",
    "        @property\n",
    "        def name(self):\n",
    "            return self.__name\n",
    "        \n",
    "        @property\n",
    "        def symbol(self):\n",
    "            return self.__symbol\n",
    "        \n",
    "        @property\n",
    "        def number(self):\n",
    "            return self.__number\n",
    "        \n",
    "        "
   ]
  },
  {
   "cell_type": "code",
   "execution_count": 17,
   "id": "f28d9ef5",
   "metadata": {},
   "outputs": [],
   "source": [
    "hydrogen = Element('Hydrogen', 'H', 1)"
   ]
  },
  {
   "cell_type": "code",
   "execution_count": 18,
   "id": "35cfe3d3",
   "metadata": {},
   "outputs": [
    {
     "data": {
      "text/plain": [
       "'Hydrogen'"
      ]
     },
     "execution_count": 18,
     "metadata": {},
     "output_type": "execute_result"
    }
   ],
   "source": [
    "hydrogen.name"
   ]
  },
  {
   "cell_type": "code",
   "execution_count": 19,
   "id": "0a602c1a",
   "metadata": {},
   "outputs": [
    {
     "data": {
      "text/plain": [
       "'H'"
      ]
     },
     "execution_count": 19,
     "metadata": {},
     "output_type": "execute_result"
    }
   ],
   "source": [
    "hydrogen.symbol"
   ]
  },
  {
   "cell_type": "code",
   "execution_count": 20,
   "id": "bcade49f",
   "metadata": {},
   "outputs": [
    {
     "data": {
      "text/plain": [
       "1"
      ]
     },
     "execution_count": 20,
     "metadata": {},
     "output_type": "execute_result"
    }
   ],
   "source": [
    "hydrogen.number"
   ]
  },
  {
   "cell_type": "markdown",
   "id": "93fbf175",
   "metadata": {},
   "source": [
    "### 9. Define three classes: Bear, Rabbit, and Octothorpe. For each, define only one method: eats(). This should return 'berries' (Bear), 'clover' (Rabbit), or 'campers' (Octothorpe). Create one object from each and print what it eats.\n"
   ]
  },
  {
   "cell_type": "code",
   "execution_count": 21,
   "id": "6511b00e",
   "metadata": {},
   "outputs": [],
   "source": [
    "class Bear:\n",
    "    def eats(self):\n",
    "        return 'berries'\n",
    "\n",
    "class Rabbit:\n",
    "    def eats(self):\n",
    "        return 'clover'\n",
    "\n",
    "class Octothorpe:\n",
    "    def eats(self):\n",
    "        return 'campers'"
   ]
  },
  {
   "cell_type": "code",
   "execution_count": 22,
   "id": "8968ac7d",
   "metadata": {},
   "outputs": [],
   "source": [
    "b = Bear()"
   ]
  },
  {
   "cell_type": "code",
   "execution_count": 23,
   "id": "6442f6a6",
   "metadata": {},
   "outputs": [],
   "source": [
    "r = Rabbit()"
   ]
  },
  {
   "cell_type": "code",
   "execution_count": 24,
   "id": "92d4694b",
   "metadata": {},
   "outputs": [],
   "source": [
    "o = Octothorpe()"
   ]
  },
  {
   "cell_type": "code",
   "execution_count": 25,
   "id": "c7105a66",
   "metadata": {},
   "outputs": [
    {
     "name": "stdout",
     "output_type": "stream",
     "text": [
      "berries\n"
     ]
    }
   ],
   "source": [
    "print(b.eats())"
   ]
  },
  {
   "cell_type": "code",
   "execution_count": 26,
   "id": "aa6adf79",
   "metadata": {},
   "outputs": [
    {
     "name": "stdout",
     "output_type": "stream",
     "text": [
      "clover\n"
     ]
    }
   ],
   "source": [
    "print(r.eats())"
   ]
  },
  {
   "cell_type": "code",
   "execution_count": 27,
   "id": "61641af0",
   "metadata": {},
   "outputs": [
    {
     "name": "stdout",
     "output_type": "stream",
     "text": [
      "campers\n"
     ]
    }
   ],
   "source": [
    "print(o.eats())"
   ]
  },
  {
   "cell_type": "markdown",
   "id": "27707c36",
   "metadata": {},
   "source": [
    "### 10. Define these classes: Laser, Claw, and SmartPhone. Each has only one method: does(). This returns 'disintegrate' (Laser), 'crush' (Claw), or 'ring' (SmartPhone). Then, define the class Robot that has one instance (object) of each of these. Define a does() method for the Robot that prints what its component objects do.\n"
   ]
  },
  {
   "cell_type": "code",
   "execution_count": 28,
   "id": "58002c80",
   "metadata": {},
   "outputs": [],
   "source": [
    "class Laser:\n",
    "    def does(self):\n",
    "        return 'disintegrate'\n",
    "\n",
    "class Claw:\n",
    "    def does(self):\n",
    "        return 'crush'\n",
    "\n",
    "class SmartPhone:\n",
    "    def does(self):\n",
    "        return 'ring'\n",
    "    \n",
    "class Robot:\n",
    "    def __init__(self):\n",
    "            self.laser = Laser()\n",
    "            self.claw = Claw()\n",
    "            self.smartphone = SmartPhone()\n",
    "    def does(self):\n",
    "            return '''I have many attachments:\n",
    "            My laser, to %s.\n",
    "            My claw, to %s.\n",
    "            My smartphone, to %s.''' % (\n",
    "            self.laser.does(),\n",
    "            self.claw.does(),\n",
    "            self.smartphone.does() )\n",
    "    "
   ]
  },
  {
   "cell_type": "code",
   "execution_count": 29,
   "id": "ea405950",
   "metadata": {},
   "outputs": [],
   "source": [
    "robbie = Robot()"
   ]
  },
  {
   "cell_type": "code",
   "execution_count": 30,
   "id": "c9eff104",
   "metadata": {},
   "outputs": [
    {
     "name": "stdout",
     "output_type": "stream",
     "text": [
      "I have many attachments:\n",
      "            My laser, to disintegrate.\n",
      "            My claw, to crush.\n",
      "            My smartphone, to ring.\n"
     ]
    }
   ],
   "source": [
    "print(robbie.does())"
   ]
  },
  {
   "cell_type": "code",
   "execution_count": null,
   "id": "eb316fde",
   "metadata": {},
   "outputs": [],
   "source": []
  },
  {
   "cell_type": "code",
   "execution_count": null,
   "id": "5aaf8d68",
   "metadata": {},
   "outputs": [],
   "source": []
  },
  {
   "cell_type": "code",
   "execution_count": null,
   "id": "d0d332d7",
   "metadata": {},
   "outputs": [],
   "source": []
  }
 ],
 "metadata": {
  "kernelspec": {
   "display_name": "Python 3 (ipykernel)",
   "language": "python",
   "name": "python3"
  },
  "language_info": {
   "codemirror_mode": {
    "name": "ipython",
    "version": 3
   },
   "file_extension": ".py",
   "mimetype": "text/x-python",
   "name": "python",
   "nbconvert_exporter": "python",
   "pygments_lexer": "ipython3",
   "version": "3.9.12"
  }
 },
 "nbformat": 4,
 "nbformat_minor": 5
}
