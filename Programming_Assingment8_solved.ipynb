{
 "cells": [
  {
   "cell_type": "markdown",
   "id": "7481cef7",
   "metadata": {},
   "source": [
    "# 1.\tWrite a Python Program to Add Two Matrices?\n",
    "\n",
    "\n",
    "\n",
    "\n"
   ]
  },
  {
   "cell_type": "code",
   "execution_count": 1,
   "id": "9004a716",
   "metadata": {},
   "outputs": [
    {
     "data": {
      "text/plain": [
       "[[13, 52, 62, 20], [34, 142, 47, 561], [992, 264, 808, 932]]"
      ]
     },
     "execution_count": 1,
     "metadata": {},
     "output_type": "execute_result"
    }
   ],
   "source": [
    "m1 = [[1,1,1,1],\n",
    "      [2,3,4,5],\n",
    "      [6,7,8,9]]\n",
    "\n",
    "m2 = [[12,51,61,19],\n",
    "      [32,139,43,556],\n",
    "      [986,257,800,923]]\n",
    "\n",
    "m3 = [[0,0,0,0],[0,0,0,0],[0,0,0,0]]\n",
    "\n",
    "\n",
    "for i in range(len(m1)):\n",
    "    for j in range(len(m1[0])):\n",
    "        m3[i][j] = m1[i][j] + m2[i][j]\n",
    "\n",
    "m3"
   ]
  },
  {
   "cell_type": "markdown",
   "id": "aafdc51c",
   "metadata": {},
   "source": [
    "# 2.\tWrite a Python Program to Multiply Two Matrices?"
   ]
  },
  {
   "cell_type": "code",
   "execution_count": 6,
   "id": "dd8558f5",
   "metadata": {},
   "outputs": [
    {
     "data": {
      "text/plain": [
       "[[44, 190], [120, 519], [296, 1279]]"
      ]
     },
     "execution_count": 6,
     "metadata": {},
     "output_type": "execute_result"
    }
   ],
   "source": [
    "m1 = [[1,1],\n",
    "      [2,3],\n",
    "      [6,7]]\n",
    "\n",
    "m2 = [[12,51,61],\n",
    "      [32,139,43]]\n",
    "\n",
    "m3 = [[0,0],[0,0],[0,0]]\n",
    "\n",
    "\n",
    "for i in range(len(m1)):\n",
    "    for j in range(len(m1[0])):\n",
    "        for k in range(len(m2)):\n",
    "            m3[i][j] += m1[i][k] * m2[k][j]\n",
    "\n",
    "m3"
   ]
  },
  {
   "cell_type": "markdown",
   "id": "67f2361d",
   "metadata": {},
   "source": [
    "# 3.\tWrite a Python Program to Transpose a Matrix?"
   ]
  },
  {
   "cell_type": "code",
   "execution_count": 11,
   "id": "cb775ef9",
   "metadata": {},
   "outputs": [
    {
     "name": "stdout",
     "output_type": "stream",
     "text": [
      "Enter N for N x N matrix: 3\n",
      "Enter the element :\n",
      "1\n",
      "5\n",
      "6\n",
      "3\n",
      "5\n",
      "8\n",
      "9\n",
      "8\n",
      "4\n",
      "Display Array M1 In Matrix Form\n",
      "1 5 6 \n",
      "3 5 8 \n",
      "9 8 4 \n",
      "Transposed Matrix\n",
      "[1, 3, 9]\n",
      "[5, 5, 8]\n",
      "[6, 8, 4]\n"
     ]
    }
   ],
   "source": [
    "def initializeMatrix(n,v=0):\n",
    "    M=[]             \n",
    "    for i in range(n):\n",
    "        #stor row\n",
    "        row =[]\n",
    "        for j in range(n):\n",
    "            row.append(v)\n",
    "        M.append(row)\n",
    "    return(M)\n",
    "\n",
    "def createMatrix(n):\n",
    "    \n",
    "    M=[]             \n",
    "    print(\"Enter the element :\")\n",
    "    for i in range(n):\n",
    "        #stor row\n",
    "        row =[]\n",
    "        for j in range(n):\n",
    "            row.append(int(input()))\n",
    "        M.append(row)\n",
    "    return(M)\n",
    "\n",
    "def printMatrix(M,n):\n",
    "    for i in range(n):\n",
    "        for j in range(n):\n",
    "            print(M[i][j], end=\" \")\n",
    "        print() \n",
    "        \n",
    "def transposeMatrix(M,n,result):\n",
    "    for i in range(n):\n",
    "        for j in range(n):\n",
    "            result[i][j]= M[j][i]\n",
    "    return result\n",
    "\n",
    "n=int(input(\"Enter N for N x N matrix: \"))       \n",
    "M1 = createMatrix(n)\n",
    "#Display the 2D array\n",
    "print(\"Display Array M1 In Matrix Form\")\n",
    "printMatrix(M1,n)\n",
    "\n",
    "result = initializeMatrix(n)\n",
    "result = transposeMatrix(M1,n,result)\n",
    "print(\"Transposed Matrix\")\n",
    "for r in result:\n",
    "    print(r)"
   ]
  },
  {
   "cell_type": "markdown",
   "id": "e5d63947",
   "metadata": {},
   "source": [
    "# 4.\tWrite a Python Program to Sort Words in Alphabetic Order?"
   ]
  },
  {
   "cell_type": "code",
   "execution_count": 12,
   "id": "27765663",
   "metadata": {},
   "outputs": [
    {
     "name": "stdout",
     "output_type": "stream",
     "text": [
      "Enter some string: we must begin a day with a huge smile\n",
      "a\n",
      "a\n",
      "begin\n",
      "day\n",
      "huge\n",
      "must\n",
      "smile\n",
      "we\n",
      "with\n"
     ]
    }
   ],
   "source": [
    "str = input(\"Enter some string: \")\n",
    "\n",
    "words = str.split()\n",
    "words.sort()\n",
    "for word in words:\n",
    "    print(word)"
   ]
  },
  {
   "cell_type": "markdown",
   "id": "4dbe7832",
   "metadata": {},
   "source": [
    "# 5.\tWrite a Python Program to Remove Punctuation From a String?"
   ]
  },
  {
   "cell_type": "code",
   "execution_count": 13,
   "id": "4a372168",
   "metadata": {},
   "outputs": [
    {
     "name": "stdout",
     "output_type": "stream",
     "text": [
      "Enter some string with panctuationswe must begin @ d!y with @ #uge $mile\n",
      "we must begin  dy with  uge mile\n"
     ]
    }
   ],
   "source": [
    "punctuations = '''!()-[]{};:'\"\\,<>./?@#$%^&*_~'''\n",
    "\n",
    "str = input(\"Enter some string with panctuations\")\n",
    "\n",
    "# remove punctuation from the string\n",
    "no_punct = \"\"\n",
    "for char in str:\n",
    "    if char not in punctuations:\n",
    "        no_punct = no_punct + char\n",
    "\n",
    "# display the unpunctuated string\n",
    "print(no_punct)"
   ]
  },
  {
   "cell_type": "code",
   "execution_count": null,
   "id": "f45eb6db",
   "metadata": {},
   "outputs": [],
   "source": []
  }
 ],
 "metadata": {
  "kernelspec": {
   "display_name": "Python 3 (ipykernel)",
   "language": "python",
   "name": "python3"
  },
  "language_info": {
   "codemirror_mode": {
    "name": "ipython",
    "version": 3
   },
   "file_extension": ".py",
   "mimetype": "text/x-python",
   "name": "python",
   "nbconvert_exporter": "python",
   "pygments_lexer": "ipython3",
   "version": "3.9.12"
  }
 },
 "nbformat": 4,
 "nbformat_minor": 5
}
