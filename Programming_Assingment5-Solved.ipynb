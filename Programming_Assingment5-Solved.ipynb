{
 "cells": [
  {
   "cell_type": "markdown",
   "id": "301a6ebe",
   "metadata": {},
   "source": [
    "# 1.\tWrite a Python Program to Find LCM?\n",
    "\n"
   ]
  },
  {
   "cell_type": "code",
   "execution_count": 2,
   "id": "0cb773a2",
   "metadata": {},
   "outputs": [
    {
     "name": "stdout",
     "output_type": "stream",
     "text": [
      "Enter the desired number for x =12\n",
      "Enter the desired number for y =14\n",
      "LCM of 12 and 14 is 84\n"
     ]
    }
   ],
   "source": [
    "x = int(input('Enter the desired number for x ='))\n",
    "y = int(input('Enter the desired number for y ='))\n",
    "\n",
    "\n",
    "def find_lcm(x, y):\n",
    "    # finding the greater number among the 2 numbers given\n",
    "    if x > y:\n",
    "\n",
    "        greater  = x\n",
    "    else:\n",
    "        greater = y\n",
    "\n",
    "    while True:\n",
    "        #if the number is divisible by both x and y and the reminder is 0 then it will be assigned to lcm\n",
    "        if (greater % x == 0) and (greater % y == 0):\n",
    "            lcm = greater\n",
    "            break\n",
    "        greater += 1\n",
    "\n",
    "    print(f'LCM of {x} and {y} is',lcm)\n",
    "\n",
    "\n",
    "find_lcm(x, y)"
   ]
  },
  {
   "cell_type": "markdown",
   "id": "7bae9a7d",
   "metadata": {},
   "source": [
    "# 2.\tWrite a Python Program to Find HCF?\n"
   ]
  },
  {
   "cell_type": "code",
   "execution_count": null,
   "id": "bdbe78b9",
   "metadata": {},
   "outputs": [],
   "source": [
    "x = int(input('Enter the desired number for x ='))\n",
    "y = int(input('Enter the desired number for y ='))\n",
    "\n",
    "def find_hfc(x, y):\n",
    "\n",
    "    if x < y:\n",
    "        smaller = x\n",
    "    else:\n",
    "        smaller = y\n",
    "\n",
    "    for i in range(1, smaller + 1):\n",
    "        if ((x % i == 0) and (y % i == 0)):\n",
    "            hfc = i\n",
    "\n",
    "    print(f'HFC of {x} and {y} is',hfc)\n",
    "    \n",
    "find_hfc(x,y)"
   ]
  },
  {
   "cell_type": "markdown",
   "id": "ea098516",
   "metadata": {},
   "source": [
    "# 3.\tWrite a Python Program to Convert Decimal to Binary, Octal and Hexadecimal?\n"
   ]
  },
  {
   "cell_type": "code",
   "execution_count": 2,
   "id": "94e29322",
   "metadata": {},
   "outputs": [
    {
     "name": "stdout",
     "output_type": "stream",
     "text": [
      "Enter the desired decimal number to convert into binary =344\n",
      "Your input decimal value 344, \n",
      "      is 0b101011000 in binary, \n",
      "      is 0o530 in Octal and \n",
      "      is 0x158 in Hexadecimal\n"
     ]
    }
   ],
   "source": [
    "x = int(input('Enter the desired decimal number to convert ='))\n",
    "\n",
    "print(f'''Your input decimal value {x}, \n",
    "      is {bin(x)} in binary, \n",
    "      is {oct(x)} in Octal and \n",
    "      is {hex(x)} in Hexadecimal''')\n"
   ]
  },
  {
   "cell_type": "markdown",
   "id": "a8f19db9",
   "metadata": {},
   "source": [
    "# 4.\tWrite a Python Program To Find ASCII value of a character?\n"
   ]
  },
  {
   "cell_type": "code",
   "execution_count": 4,
   "id": "57e422de",
   "metadata": {},
   "outputs": [
    {
     "name": "stdout",
     "output_type": "stream",
     "text": [
      "enter a character a\n",
      "ascii code of the character is  97\n"
     ]
    }
   ],
   "source": [
    "char=str(input(\"enter a character \"))\n",
    "print(\"ascii code of the character is \",ord(char))"
   ]
  },
  {
   "cell_type": "markdown",
   "id": "5cc38723",
   "metadata": {},
   "source": [
    "# 5.\tWrite a Python Program to Make a Simple Calculator with 4 basic mathematical operations?"
   ]
  },
  {
   "cell_type": "code",
   "execution_count": 12,
   "id": "50f951d8",
   "metadata": {},
   "outputs": [
    {
     "name": "stdout",
     "output_type": "stream",
     "text": [
      "Enter the desired number to convert = 10\n",
      "Enter the desired number to convert = 5\n",
      "Enter the desired action = /\n",
      "The division of 10 and 5 is 2.0\n"
     ]
    }
   ],
   "source": [
    "x = int(input('Enter the desired number to convert = '))\n",
    "y = int(input('Enter the desired number to convert = '))\n",
    "action = (input('Enter the desired action = '))\n",
    "\n",
    "def Calc(x,y,action):\n",
    "    \n",
    "    if action  == \"+\":\n",
    "        print(f'The addition of {x} and {y} is',x + y)\n",
    "    elif action  == \"-\":\n",
    "        print(f'The Substraction of {x} from {y} results in',x - y)\n",
    "    elif action  == \"*\":\n",
    "        print(f'The multiplication of {x} and {y} is',x * y)\n",
    "    elif action  == \"/\":\n",
    "        print(f'The division of {x} and {y} is',x/y)\n",
    "    else:\n",
    "        print(f'enter one of the following action: +, -, * and /')\n",
    "    \n",
    "\n",
    "        \n",
    "Calc(x,y,action)\n"
   ]
  },
  {
   "cell_type": "code",
   "execution_count": null,
   "id": "8cc27468",
   "metadata": {},
   "outputs": [],
   "source": []
  }
 ],
 "metadata": {
  "kernelspec": {
   "display_name": "Python 3 (ipykernel)",
   "language": "python",
   "name": "python3"
  },
  "language_info": {
   "codemirror_mode": {
    "name": "ipython",
    "version": 3
   },
   "file_extension": ".py",
   "mimetype": "text/x-python",
   "name": "python",
   "nbconvert_exporter": "python",
   "pygments_lexer": "ipython3",
   "version": "3.9.12"
  }
 },
 "nbformat": 4,
 "nbformat_minor": 5
}
