{
 "cells": [
  {
   "cell_type": "markdown",
   "id": "7f6938ba",
   "metadata": {},
   "source": [
    " 1. What is the result of the code, and explain?\n",
    "\n",
    "\n",
    "X = 'iNeuron'\n",
    "def func():\n",
    "    print(X)\n",
    "\n",
    "\n",
    "func()\n",
    "\n"
   ]
  },
  {
   "cell_type": "code",
   "execution_count": 3,
   "id": "9efd2c35",
   "metadata": {},
   "outputs": [
    {
     "name": "stdout",
     "output_type": "stream",
     "text": [
      "iNeuron\n"
     ]
    }
   ],
   "source": [
    "X = 'iNeuron'\n",
    "def func():\n",
    "    print(X)\n",
    "\n",
    "\n",
    "func()\n",
    "\n",
    "Explaination - \n",
    "'''It will print 'iNeuron' as that is the global variable. we can access global variable inside the funtion \n",
    "but we can not use the local variable outside of the funtion\"\"\" "
   ]
  },
  {
   "cell_type": "markdown",
   "id": "62b7bd62",
   "metadata": {},
   "source": [
    "### 2. What is the result of the code, and explain?\n",
    "\n",
    "\n",
    "X = 'iNeuron'\n",
    "def func():\n",
    "    X = 'NI!'\n",
    "\n",
    "\n",
    "func()\n",
    "print(X)\n",
    "\n",
    "\n"
   ]
  },
  {
   "cell_type": "code",
   "execution_count": 7,
   "id": "e80ad7d3",
   "metadata": {},
   "outputs": [
    {
     "name": "stdout",
     "output_type": "stream",
     "text": [
      "iNeuron\n",
      "\n",
      "Explanation - Here we have just assigned the local variable but we havent printed due to which function func() \n",
      "didnt returned or printed anything when we printed the global variable X it printed 'iNeron' \n"
     ]
    }
   ],
   "source": [
    "X = 'iNeuron'\n",
    "def func():\n",
    "    X = 'NI!'\n",
    "\n",
    "\n",
    "func()\n",
    "print(X)\n",
    "print()\n",
    "print(\"\"\"Explanation - Here we have just assigned the local variable but we havent printed due to which function func() \n",
    "didnt returned or printed anything when we printed the global variable X it printed 'iNeron' \"\"\")"
   ]
  },
  {
   "cell_type": "markdown",
   "id": "eb662a22",
   "metadata": {},
   "source": [
    "### 3. What does this code print, and why?\n",
    "\n",
    "X = 'iNeuron'\n",
    "def func():\n",
    "    X = 'NI'\n",
    "    print(X)\n",
    "\n",
    "\n",
    "func()\n",
    "print(X)\n",
    "\n",
    "\n"
   ]
  },
  {
   "cell_type": "code",
   "execution_count": 8,
   "id": "30e3910c",
   "metadata": {},
   "outputs": [
    {
     "name": "stdout",
     "output_type": "stream",
     "text": [
      "NI\n",
      "iNeuron\n",
      "\n",
      "Explanation - Inside the function we have assigned X to 'NI' and then we have printed the variable X, \n",
      "so when we called function func() it printed the Ni and when we printed X outside the function \n",
      "it took the global variable hence the answer is 'iNeuron'\n"
     ]
    }
   ],
   "source": [
    "X = 'iNeuron'\n",
    "def func():\n",
    "    X = 'NI'\n",
    "    print(X)\n",
    "\n",
    "\n",
    "func()\n",
    "print(X)\n",
    "print()\n",
    "print(\"\"\"Explanation - Inside the function we have assigned X to 'NI' and then we have printed the variable X, \n",
    "so when we called function func() it printed the Ni and when we printed X outside the function \n",
    "it took the global variable hence the answer is 'iNeuron'\"\"\")"
   ]
  },
  {
   "cell_type": "markdown",
   "id": "5cf07052",
   "metadata": {},
   "source": [
    "### 4. What output does this code produce? Why?\n",
    "\n",
    "X = 'iNeuron'\n",
    "def func():\n",
    "    global X\n",
    "    X = 'NI'\n",
    "\n",
    "\n",
    "func()\n",
    "print(X)\n",
    "\n",
    "\n"
   ]
  },
  {
   "cell_type": "code",
   "execution_count": 11,
   "id": "31c3e682",
   "metadata": {},
   "outputs": [
    {
     "name": "stdout",
     "output_type": "stream",
     "text": [
      "NI\n",
      "\n",
      "Explanation - Inside the func function, the global keyword is used to indicate that the variable X being \n",
      "assigned is the global variable X, not a local variable with the same name. Therefore, any modifications to X inside \n",
      "the function will affect the global variable.\n"
     ]
    }
   ],
   "source": [
    "X = 'iNeuron'\n",
    "def func():\n",
    "    global X\n",
    "    X = 'NI'\n",
    "   \n",
    "\n",
    "func()\n",
    "print(X)\n",
    "print()\n",
    "print(\"\"\"Explanation - Inside the func function, the global keyword is used to indicate that the variable X being \n",
    "assigned is the global variable X, not a local variable with the same name. Therefore, any modifications to X inside \n",
    "the function will affect the global variable.\"\"\")"
   ]
  },
  {
   "cell_type": "markdown",
   "id": "a267680e",
   "metadata": {},
   "source": [
    "### 5. What about this code—what’s the output, and why?\n",
    "\n",
    "\n",
    "X = 'iNeuron'\n",
    "def func():\n",
    "    X = 'NI'\n",
    "\n",
    "def nested():\n",
    "print(X)\n",
    "\n",
    "nested()\n",
    "\n",
    "\n",
    "func()\n",
    "X\n",
    "\n",
    "\n"
   ]
  },
  {
   "cell_type": "code",
   "execution_count": 18,
   "id": "2458ae48",
   "metadata": {},
   "outputs": [
    {
     "name": "stdout",
     "output_type": "stream",
     "text": [
      "iNeuron\n"
     ]
    },
    {
     "data": {
      "text/plain": [
       "'iNeuron'"
      ]
     },
     "execution_count": 18,
     "metadata": {},
     "output_type": "execute_result"
    }
   ],
   "source": [
    "X = 'iNeuron'\n",
    "def func():\n",
    "    X = 'NI'\n",
    "\n",
    "def nested():\n",
    "    print(X)\n",
    "\n",
    "nested()\n",
    "\n",
    "\n",
    "func()\n",
    "X\n"
   ]
  },
  {
   "cell_type": "code",
   "execution_count": 19,
   "id": "55c45a86",
   "metadata": {},
   "outputs": [
    {
     "name": "stdout",
     "output_type": "stream",
     "text": [
      "Explanation - We can iNeron printed 2 times in the output.\n",
      "The first one is printed due to function nested() which printed global variable X. \n",
      "The call of function func() will not affect the output as it doesnt have any printe or return statement in it\n",
      "The secod iNeron is printed due to X which is a global variable\n"
     ]
    }
   ],
   "source": [
    "print(\"\"\"Explanation - We can iNeuron printed 2 times in the output.\n",
    "The first one is printed due to function nested() which printed global variable X. \n",
    "The call of function func() will not affect the output as it doesnt have any printe or return statement in it\n",
    "The secod iNeron is printed due to X which is a global variable\"\"\")"
   ]
  },
  {
   "cell_type": "markdown",
   "id": "1b09ad65",
   "metadata": {},
   "source": [
    "### 6. How about this code: what is its output in Python 3, and explain?\n",
    "\n",
    "\n",
    "def func():\n",
    "    X = 'NI'\n",
    "    \n",
    "def nested():\n",
    "    nonlocal X\n",
    "    X = 'Spam'\n",
    "    \n",
    "nested()\n",
    "print(X)\n",
    "\n",
    "\n",
    "func()\n"
   ]
  },
  {
   "cell_type": "code",
   "execution_count": 21,
   "id": "1c4f55df",
   "metadata": {},
   "outputs": [
    {
     "name": "stdout",
     "output_type": "stream",
     "text": [
      "Spam\n"
     ]
    }
   ],
   "source": [
    "def func():\n",
    "    X = 'NI'\n",
    "    \n",
    "    def nested():\n",
    "        nonlocal X\n",
    "        X = 'Spam'\n",
    "\n",
    "    nested()\n",
    "    print(X)\n",
    "\n",
    "\n",
    "func()"
   ]
  },
  {
   "cell_type": "code",
   "execution_count": 22,
   "id": "49196f42",
   "metadata": {},
   "outputs": [
    {
     "name": "stdout",
     "output_type": "stream",
     "text": [
      "Explanation - Nonlocal variables are used in nested functions whose local scope is not defined. \n",
      "This means that the variable can be neither in the local nor the global scope. it print the updated value from nested \n",
      "function\n"
     ]
    }
   ],
   "source": [
    "print('''Explanation - Nonlocal variables are used in nested functions whose local scope is not defined. \n",
    "This means that the variable can be neither in the local nor the global scope. it print the updated value from nested \n",
    "function''')"
   ]
  },
  {
   "cell_type": "code",
   "execution_count": null,
   "id": "c13d2ed4",
   "metadata": {},
   "outputs": [],
   "source": []
  }
 ],
 "metadata": {
  "kernelspec": {
   "display_name": "Python 3 (ipykernel)",
   "language": "python",
   "name": "python3"
  },
  "language_info": {
   "codemirror_mode": {
    "name": "ipython",
    "version": 3
   },
   "file_extension": ".py",
   "mimetype": "text/x-python",
   "name": "python",
   "nbconvert_exporter": "python",
   "pygments_lexer": "ipython3",
   "version": "3.9.12"
  }
 },
 "nbformat": 4,
 "nbformat_minor": 5
}
