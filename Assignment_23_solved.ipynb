{
 "cells": [
  {
   "cell_type": "markdown",
   "id": "a05702c9",
   "metadata": {},
   "source": [
    "### 1. What is the result of the code, and why?\n",
    "def func(a, b=6, c=8):\n",
    "    print(a, b, c)\n",
    "\n",
    "func(1, 2)\n",
    "\n",
    "\n"
   ]
  },
  {
   "cell_type": "code",
   "execution_count": 1,
   "id": "eb63f9d2",
   "metadata": {},
   "outputs": [
    {
     "name": "stdout",
     "output_type": "stream",
     "text": [
      "1 2 8\n",
      "\n",
      "Explanation - while defining the function value of b and c is predefined, but while calling the function \n",
      "the value of a nd B is explicitely given and value to c is not given due to which the it will take the predefined value\n",
      "hence the output is 1 2 8\n"
     ]
    }
   ],
   "source": [
    "def func(a, b=6, c=8):\n",
    "    print(a, b, c)\n",
    "\n",
    "func(1, 2)\n",
    "print()\n",
    "print(\"\"\"Explanation - while defining the function value of b and c is predefined, but while calling the function \n",
    "the value of a nd B is explicitely given and value to c is not given due to which the it will take the predefined value\n",
    "hence the output is 1 2 8\"\"\")"
   ]
  },
  {
   "cell_type": "markdown",
   "id": "d3b729ce",
   "metadata": {},
   "source": [
    "### 2. What is the result of this code, and why?\n",
    "def func(a, b, c=5):\n",
    "print(a, b, c)\n",
    "\n",
    "func(1, c=3, b=2)\n"
   ]
  },
  {
   "cell_type": "code",
   "execution_count": 2,
   "id": "135c8d42",
   "metadata": {},
   "outputs": [
    {
     "name": "stdout",
     "output_type": "stream",
     "text": [
      "1 2 3\n",
      "\n",
      "Explanation - the vallue of C is explicitely given while calling the function, but The order of the keyword \n",
      "arguments (c=3 and b=2) doesn't matter since they are explicitly specified by their parameter names.\n"
     ]
    }
   ],
   "source": [
    "def func(a, b, c=5):\n",
    "    print(a, b, c)\n",
    "\n",
    "func(1, c=3, b=2)\n",
    "print()\n",
    "print(\"\"\"Explanation - the vallue of C is explicitely given while calling the function, but The order of the keyword \n",
    "arguments (c=3 and b=2) doesn't matter since they are explicitly specified by their parameter names.\"\"\")"
   ]
  },
  {
   "cell_type": "markdown",
   "id": "2c42480a",
   "metadata": {},
   "source": [
    "### 3. How about this code: what is its result, and why?\n",
    "def func(a, *pargs):\n",
    "    print(a, pargs)\n",
    "\n",
    "func(1, 2, 3)\n"
   ]
  },
  {
   "cell_type": "code",
   "execution_count": 3,
   "id": "903f8414",
   "metadata": {},
   "outputs": [
    {
     "name": "stdout",
     "output_type": "stream",
     "text": [
      "1 (2, 3)\n",
      "\n",
      "Explanation - while defining the funtion * pargs is given, which can take any number of additional positional\n",
      "      arguments. hence when the function is called, 1 is assigned to 1 and rest other arguments were assigned to *pargs \n",
      "      and given as tuple of values\n"
     ]
    }
   ],
   "source": [
    "def func(a, *pargs):\n",
    "    print(a, pargs)\n",
    "\n",
    "func(1, 2, 3)\n",
    "print()\n",
    "print(\"\"\"Explanation - while defining the funtion * pargs is given, which can take any number of additional positional\n",
    "      arguments. hence when the function is called, 1 is assigned to 1 and rest other arguments were assigned to *pargs \n",
    "      and given as tuple of values\"\"\")"
   ]
  },
  {
   "cell_type": "markdown",
   "id": "a74ee994",
   "metadata": {},
   "source": [
    "### 4. What does this code print, and why?\n",
    "def func(a, **kargs):\n",
    "    print(a, kargs)\n",
    "    \n",
    "func(a=1, c=3, b=2)\n"
   ]
  },
  {
   "cell_type": "code",
   "execution_count": 4,
   "id": "30dc0508",
   "metadata": {},
   "outputs": [
    {
     "name": "stdout",
     "output_type": "stream",
     "text": [
      "1 {'c': 3, 'b': 2}\n",
      "\n",
      "Explanation - while defining the function *kargs is given, which is key value pair and represented as dictionary. \n",
      "a was already defined,but c and b were not defined so it was taken as kargs ans shown in dictioanry\n"
     ]
    }
   ],
   "source": [
    "def func(a, **kargs):\n",
    "    print(a, kargs)\n",
    "    \n",
    "func(a=1, c=3, b=2)\n",
    "print()\n",
    "print(\"\"\"Explanation - while defining the function *kargs is given, which is key value pair and represented as dictionary. \n",
    "a was already defined,but c and b were not defined so it was taken as kargs ans shown in dictioanry\"\"\")"
   ]
  },
  {
   "cell_type": "markdown",
   "id": "055abcbd",
   "metadata": {},
   "source": [
    "### 5. What gets printed by this, and explain?\n",
    "def func(a, b, c=8, d=5): \n",
    "    print(a, b, c, d)\n",
    "\n",
    "func(1, *(5, 6))\n"
   ]
  },
  {
   "cell_type": "code",
   "execution_count": 5,
   "id": "78089d56",
   "metadata": {},
   "outputs": [
    {
     "name": "stdout",
     "output_type": "stream",
     "text": [
      "1 5 6 5\n",
      "\n",
      "Explaination -  '*' is the unpacking operator and are operators that unpack the values from iterable objects \n",
      "in Python. The single asterisk operator * can be used on any iterable that Python provides, while the double asterisk \n",
      "operator ** can only be used on dictionaries. In the example the value *(5,6) will be unpacked and will be assigned \n",
      "to b and c and passed as arguments, d =5 will taken by defaults are keyword arguments.\n"
     ]
    }
   ],
   "source": [
    "def func(a, b, c=8, d=5): \n",
    "    print(a, b, c, d)\n",
    "\n",
    "func(1, *(5, 6))\n",
    "print()\n",
    "print(\"\"\"Explaination -  '*' is the unpacking operator and are operators that unpack the values from iterable objects \n",
    "in Python. The single asterisk operator * can be used on any iterable that Python provides, while the double asterisk \n",
    "operator ** can only be used on dictionaries. In the example the value *(5,6) will be unpacked and will be assigned \n",
    "to b and c and passed as arguments, d =5 will taken by defaults are keyword arguments.\"\"\")"
   ]
  },
  {
   "cell_type": "markdown",
   "id": "2f57d66d",
   "metadata": {},
   "source": [
    "### 6. what is the result of this, and explain?\n",
    "def func(a, b, c): \n",
    "    a = 2; b[0] = 'x'; c['a'] = 'y'\n",
    "    l=1; m=[1]; n={'a':0}\n",
    "    \n",
    "func(l, m, n)\n",
    "l, m, n"
   ]
  },
  {
   "cell_type": "code",
   "execution_count": 6,
   "id": "ad623c7d",
   "metadata": {},
   "outputs": [
    {
     "data": {
      "text/plain": [
       "(1, ['x'], {'a': 'y'})"
      ]
     },
     "execution_count": 6,
     "metadata": {},
     "output_type": "execute_result"
    }
   ],
   "source": [
    "def func(a, b, c): \n",
    "    a = 2; b[0] = 'x'; c['a'] = 'y'\n",
    "\n",
    "l=1; m=[1]; n={'a':0}\n",
    "    \n",
    "func(l, m, n)\n",
    "l, m, n\n"
   ]
  },
  {
   "cell_type": "code",
   "execution_count": 7,
   "id": "6ac3ca7c",
   "metadata": {},
   "outputs": [
    {
     "name": "stdout",
     "output_type": "stream",
     "text": [
      "Explanation -  Here in the code, the list and dict are passed as argument, and those are mutable. Here the list l and parameter \n",
      "b point to the same list in the memory location where as dict n and c point to the same memory location. Any updates to \n",
      "this list will update in the memory location\n",
      "l = 1 , integer values, immutable, m is list, mutable, n is dict, mutable.\n"
     ]
    }
   ],
   "source": [
    "\n",
    "print(\"\"\"Explanation -  Here in the code, the list and dict are passed as argument, and those are mutable. Here the list l and parameter \n",
    "b point to the same list in the memory location where as dict n and c point to the same memory location. Any updates to \n",
    "this list will update in the memory location\n",
    "l = 1 , integer values, immutable, m is list, mutable, n is dict, mutable.\"\"\")"
   ]
  },
  {
   "cell_type": "code",
   "execution_count": null,
   "id": "ac0e1a44",
   "metadata": {},
   "outputs": [],
   "source": []
  }
 ],
 "metadata": {
  "kernelspec": {
   "display_name": "Python 3 (ipykernel)",
   "language": "python",
   "name": "python3"
  },
  "language_info": {
   "codemirror_mode": {
    "name": "ipython",
    "version": 3
   },
   "file_extension": ".py",
   "mimetype": "text/x-python",
   "name": "python",
   "nbconvert_exporter": "python",
   "pygments_lexer": "ipython3",
   "version": "3.9.12"
  }
 },
 "nbformat": 4,
 "nbformat_minor": 5
}
