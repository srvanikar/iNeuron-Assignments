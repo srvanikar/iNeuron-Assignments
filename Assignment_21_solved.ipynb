{
 "cells": [
  {
   "cell_type": "markdown",
   "id": "08df9ff8",
   "metadata": {},
   "source": [
    "### 1. Add the current date to the text file today.txt as a string.\n"
   ]
  },
  {
   "cell_type": "code",
   "execution_count": 21,
   "id": "c09a4fba",
   "metadata": {},
   "outputs": [],
   "source": [
    "from datetime import datetime\n",
    "\n",
    "now = datetime.now().strftime(\"%m/%d/%Y, %H:%M:%S\")\n",
    "\n",
    "f = open('Today.txt', 'w')\n",
    "f.write(now)\n",
    "f.close()"
   ]
  },
  {
   "cell_type": "markdown",
   "id": "702831f1",
   "metadata": {},
   "source": [
    "### 2. Read the text file today.txt into the string today_string\n"
   ]
  },
  {
   "cell_type": "code",
   "execution_count": 26,
   "id": "79cfc5a6",
   "metadata": {},
   "outputs": [
    {
     "name": "stdout",
     "output_type": "stream",
     "text": [
      "05/15/2023, 16:29:40\n"
     ]
    }
   ],
   "source": [
    "file = open('today.txt','r')\n",
    "today_string = file.read()\n",
    "print(today_string)"
   ]
  },
  {
   "cell_type": "markdown",
   "id": "e5c42f86",
   "metadata": {},
   "source": [
    "### 3. Parse the date from today_string.\n"
   ]
  },
  {
   "cell_type": "code",
   "execution_count": 28,
   "id": "fca907d9",
   "metadata": {},
   "outputs": [
    {
     "name": "stdout",
     "output_type": "stream",
     "text": [
      "2023-05-15 16:29:40\n"
     ]
    }
   ],
   "source": [
    "parsed_data = datetime.strptime(today_string, \"%m/%d/%Y, %H:%M:%S\")\n",
    "print(parsed_data)"
   ]
  },
  {
   "cell_type": "markdown",
   "id": "0dcb86c4",
   "metadata": {},
   "source": [
    "### 4. List the files in your current directory\n"
   ]
  },
  {
   "cell_type": "code",
   "execution_count": 2,
   "id": "038bc947",
   "metadata": {},
   "outputs": [
    {
     "name": "stdout",
     "output_type": "stream",
     "text": [
      ".idea\n",
      ".ipynb_checkpoints\n",
      ".log\n",
      "Assignment_20-Solved.ipynb\n",
      "Assignment_20.docx\n",
      "Assignment_21.docx\n",
      "Assignment_21.ipynb\n",
      "Assignment_22.docx\n",
      "Assignment_23.docx\n",
      "Assignment_24.docx\n",
      "Assignment_25.docx\n",
      "books.csv\n",
      "books.db\n",
      "Challenge\n",
      "flipkart review.mp4\n",
      "image.jpg\n",
      "New folder\n",
      "Programming_Assingment10.docx\n",
      "Programming_Assingment11.docx\n",
      "Programming_Assingment12.docx\n",
      "Programming_Assingment13.docx\n",
      "Programming_Assingment14.docx\n",
      "Programming_Assingment15.docx\n",
      "Programming_Assingment16.docx\n",
      "Programming_Assingment17.docx\n",
      "Programming_Assingment18.docx\n",
      "Programming_Assingment19.docx\n",
      "Programming_Assingment20.docx\n",
      "Programming_Assingment21.docx\n",
      "Programming_Assingment22.docx\n",
      "Programming_Assingment23.docx\n",
      "Programming_Assingment24.docx\n",
      "Programming_Assingment25.docx\n",
      "Programming_Assingment8.docx\n",
      "Programming_Assingment8.ipynb\n",
      "Programming_Assingment9.docx\n",
      "python-assignments-main.zip\n",
      "Submitted\n",
      "Test.txt\n",
      "Today.txt\n",
      "Untitled.ipynb\n",
      "Untitled1.ipynb\n",
      "venv\n",
      "__pycache__\n"
     ]
    }
   ],
   "source": [
    "import os\n",
    "os.listdir()"
   ]
  },
  {
   "cell_type": "markdown",
   "id": "5fae757a",
   "metadata": {},
   "source": [
    "### 5. Create a list of all of the files in your parent directory (minimum five files should be available).\n"
   ]
  },
  {
   "cell_type": "code",
   "execution_count": 3,
   "id": "30934b98",
   "metadata": {},
   "outputs": [
    {
     "data": {
      "text/plain": [
       "['.idea',\n",
       " '.ipynb_checkpoints',\n",
       " '.log',\n",
       " 'Assignment_20-Solved.ipynb',\n",
       " 'Assignment_20.docx',\n",
       " 'Assignment_21.docx',\n",
       " 'Assignment_21.ipynb',\n",
       " 'Assignment_22.docx',\n",
       " 'Assignment_23.docx',\n",
       " 'Assignment_24.docx',\n",
       " 'Assignment_25.docx',\n",
       " 'books.csv',\n",
       " 'books.db',\n",
       " 'Challenge',\n",
       " 'flipkart review.mp4',\n",
       " 'image.jpg',\n",
       " 'New folder',\n",
       " 'Programming_Assingment10.docx',\n",
       " 'Programming_Assingment11.docx',\n",
       " 'Programming_Assingment12.docx',\n",
       " 'Programming_Assingment13.docx',\n",
       " 'Programming_Assingment14.docx',\n",
       " 'Programming_Assingment15.docx',\n",
       " 'Programming_Assingment16.docx',\n",
       " 'Programming_Assingment17.docx',\n",
       " 'Programming_Assingment18.docx',\n",
       " 'Programming_Assingment19.docx',\n",
       " 'Programming_Assingment20.docx',\n",
       " 'Programming_Assingment21.docx',\n",
       " 'Programming_Assingment22.docx',\n",
       " 'Programming_Assingment23.docx',\n",
       " 'Programming_Assingment24.docx',\n",
       " 'Programming_Assingment25.docx',\n",
       " 'Programming_Assingment8.docx',\n",
       " 'Programming_Assingment8.ipynb',\n",
       " 'Programming_Assingment9.docx',\n",
       " 'python-assignments-main.zip',\n",
       " 'Submitted',\n",
       " 'Test.txt',\n",
       " 'Today.txt',\n",
       " 'Untitled.ipynb',\n",
       " 'Untitled1.ipynb',\n",
       " 'venv',\n",
       " '__pycache__']"
      ]
     },
     "execution_count": 3,
     "metadata": {},
     "output_type": "execute_result"
    }
   ],
   "source": [
    "import os\n",
    "os.listdir()\n"
   ]
  },
  {
   "cell_type": "markdown",
   "id": "35c1a07f",
   "metadata": {},
   "source": [
    "### 6. Use multiprocessing to create three separate processes. Make each one wait a random number of seconds between one and five, print the current time, and then exit.\n"
   ]
  },
  {
   "cell_type": "code",
   "execution_count": 21,
   "id": "034a0a8a",
   "metadata": {},
   "outputs": [],
   "source": [
    "import multiprocessing\n",
    "import random\n",
    "from datetime import datetime\n",
    "from time import sleep\n",
    "\n",
    "def printsec(seconds):\n",
    "    \n",
    "    sleep(seconds)\n",
    "    print('wait', seconds, 'seconds, time is', datetime.utcnow())\n",
    "    \n",
    "if __name__ == '__main__':\n",
    "    for n in range(3):\n",
    "        seconds = random.random()\n",
    "        proc = multiprocessing.Process(target=printsec, args=(seconds,))\n",
    "        proc.start()\n",
    "        "
   ]
  },
  {
   "cell_type": "code",
   "execution_count": 23,
   "id": "ec930639",
   "metadata": {},
   "outputs": [
    {
     "name": "stdout",
     "output_type": "stream",
     "text": [
      "wait 0.04273978038411208 seconds, time is 2023-05-19 11:22:55.211601\n",
      "wait 0.25596639968979407 seconds, time is 2023-05-19 11:22:55.433386\n",
      "wait 0.2752065606611759 seconds, time is 2023-05-19 11:22:55.464955\n"
     ]
    }
   ],
   "source": [
    "!python abc.py"
   ]
  },
  {
   "cell_type": "markdown",
   "id": "43939040",
   "metadata": {},
   "source": [
    "### 7. Create a date object of your day of birth.\n"
   ]
  },
  {
   "cell_type": "code",
   "execution_count": 30,
   "id": "65328424",
   "metadata": {},
   "outputs": [
    {
     "data": {
      "text/plain": [
       "datetime.date(1985, 1, 24)"
      ]
     },
     "execution_count": 30,
     "metadata": {},
     "output_type": "execute_result"
    }
   ],
   "source": [
    "\n",
    "DOB=date(1985,1,24)\n",
    "DOB"
   ]
  },
  {
   "cell_type": "markdown",
   "id": "07cbbbdc",
   "metadata": {},
   "source": [
    "### 8. What day of the week was your day of birth?\n"
   ]
  },
  {
   "cell_type": "code",
   "execution_count": 31,
   "id": "4eb61527",
   "metadata": {},
   "outputs": [
    {
     "data": {
      "text/plain": [
       "3"
      ]
     },
     "execution_count": 31,
     "metadata": {},
     "output_type": "execute_result"
    }
   ],
   "source": [
    "DOB.weekday()"
   ]
  },
  {
   "cell_type": "markdown",
   "id": "c0f335b5",
   "metadata": {},
   "source": [
    "### 9. When will you be (or when were you) 10,000 days old?\n",
    "\n"
   ]
  },
  {
   "cell_type": "code",
   "execution_count": 40,
   "id": "80b282c4",
   "metadata": {},
   "outputs": [
    {
     "data": {
      "text/plain": [
       "datetime.date(2012, 6, 11)"
      ]
     },
     "execution_count": 40,
     "metadata": {},
     "output_type": "execute_result"
    }
   ],
   "source": [
    "from datetime import timedelta\n",
    "days_10k = DOB + timedelta(days=10000)\n",
    "days_10k"
   ]
  },
  {
   "cell_type": "code",
   "execution_count": null,
   "id": "306ed734",
   "metadata": {},
   "outputs": [],
   "source": []
  }
 ],
 "metadata": {
  "kernelspec": {
   "display_name": "Python 3 (ipykernel)",
   "language": "python",
   "name": "python3"
  },
  "language_info": {
   "codemirror_mode": {
    "name": "ipython",
    "version": 3
   },
   "file_extension": ".py",
   "mimetype": "text/x-python",
   "name": "python",
   "nbconvert_exporter": "python",
   "pygments_lexer": "ipython3",
   "version": "3.9.12"
  }
 },
 "nbformat": 4,
 "nbformat_minor": 5
}
